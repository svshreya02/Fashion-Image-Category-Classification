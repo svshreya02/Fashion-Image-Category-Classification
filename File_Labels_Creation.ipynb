{
 "cells": [
  {
   "cell_type": "markdown",
   "metadata": {},
   "source": [
    "## Label File Creation"
   ]
  },
  {
   "cell_type": "markdown",
   "metadata": {},
   "source": [
    "It matches the product IDs extracted from the image file names with the product IDs from the CSV file. For matching product IDs, it writes the image file name along with its corresponding category to a labels file."
   ]
  },
  {
   "cell_type": "code",
   "execution_count": 1,
   "metadata": {},
   "outputs": [],
   "source": [
    "import os\n",
    "import csv\n",
    "\n",
    "# Step 1: Read CSV file\n",
    "def read_csv(csv_file):\n",
    "    categories = {}\n",
    "    with open(csv_file, 'r') as file:\n",
    "        reader = csv.DictReader(file)\n",
    "        for row in reader:\n",
    "            product_id = row['id']\n",
    "            category = row['masterCategory']\n",
    "            categories[product_id] = category\n",
    "    return categories\n",
    "\n",
    "# Step 2: List image files\n",
    "def list_image_files(folder):\n",
    "    return [f for f in os.listdir(folder) if os.path.isfile(os.path.join(folder, f))]\n",
    "\n",
    "# Step 3-5: Match product IDs and create labels file\n",
    "def create_labels_file(image_folder, csv_file, labels_file):\n",
    "    categories = read_csv(csv_file)\n",
    "    image_files = list_image_files(image_folder)\n",
    "\n",
    "    with open(labels_file, 'w') as file:\n",
    "        for image_file in image_files:\n",
    "            product_id = os.path.splitext(image_file)[0]  # Assuming file name is the product ID\n",
    "            if product_id in categories:\n",
    "                category = categories[product_id]\n",
    "                file.write(f\"{image_file},{category}\\n\")\n",
    "\n",
    "# Example usage\n",
    "image_folder = '/home/jovyan/efs/users/Shreya_Sivakumar/TASK_1/images'\n",
    "csv_file = '/home/jovyan/efs/users/Shreya_Sivakumar/TASK_1/styles.csv'\n",
    "labels_file = '/home/jovyan/efs/users/Shreya_Sivakumar/TASK_1/labels.txt'\n",
    "\n",
    "create_labels_file(image_folder, csv_file, labels_file)\n"
   ]
  },
  {
   "cell_type": "code",
   "execution_count": null,
   "metadata": {},
   "outputs": [],
   "source": []
  }
 ],
 "metadata": {
  "kernelspec": {
   "display_name": "Python 3",
   "language": "python",
   "name": "python3"
  },
  "language_info": {
   "codemirror_mode": {
    "name": "ipython",
    "version": 3
   },
   "file_extension": ".py",
   "mimetype": "text/x-python",
   "name": "python",
   "nbconvert_exporter": "python",
   "pygments_lexer": "ipython3",
   "version": "3.7.4"
  }
 },
 "nbformat": 4,
 "nbformat_minor": 5
}
